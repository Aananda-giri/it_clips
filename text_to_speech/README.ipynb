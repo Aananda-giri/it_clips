{
 "cells": [
  {
   "attachments": {},
   "cell_type": "markdown",
   "metadata": {},
   "source": [
    "## **TTS (Text To Speech) libraries:**\n",
    "1. [pyttsx3](https://pyttsx3.readthedocs.io/en/latest/) \n",
    "    * An offline Python library that supports different TTS engines, such as Microsoft SAPI and eSpeak, and allows you to control voice speed and volume.\n",
    "    * uses the 'espeak' TTS engine:\n",
    "        * Debian:`sudo dnf install espeak` \n",
    "        * Ubuntu: `sudo apt install espeak`\n",
    "        * [Windows:](https://sourceforge.net/projects/espeak/files/espeak/espeak-1.48/setup_espeak-1.48.04.exe/download)"
   ]
  },
  {
   "cell_type": "code",
   "execution_count": 1,
   "metadata": {},
   "outputs": [],
   "source": [
    "import pyttsx3\n",
    "engine = pyttsx3.init()\n",
    "engine.say(\"I will speak this text\")\n",
    "engine.runAndWait()"
   ]
  },
  {
   "cell_type": "code",
   "execution_count": 2,
   "metadata": {},
   "outputs": [
    {
     "name": "stdout",
     "output_type": "stream",
     "text": [
      "0\n",
      "1\n",
      "2\n",
      "3\n",
      "4\n",
      "5\n",
      "6\n",
      "7\n",
      "8\n",
      "9\n",
      "10\n",
      "11\n",
      "12\n",
      "13\n"
     ]
    }
   ],
   "source": [
    "for i in range(20):\n",
    "    print(i)\n",
    "    voices = engine.getProperty('voices')       #getting details of current voice\n",
    "    #engine.setProperty('voice', voices[0].id)  #changing index, changes voices. o for male\n",
    "    engine.setProperty('voice', voices[i].id)   #changing index, changes voices. 1 for female\n",
    "\n",
    "\n",
    "\n",
    "\n",
    "\n",
    "    engine.say(\"I will speak this text\")\n",
    "    engine.runAndWait()\n",
    "    wait = input('enter to continue')"
   ]
  },
  {
   "attachments": {},
   "cell_type": "markdown",
   "metadata": {},
   "source": [
    "2. gTTS\n",
    "    * An online Python library that uses the Google Text-to-Speech (TTS) API to convert text to speech. It supports multiple languages and allows you to save the audio output as an MP3 file."
   ]
  },
  {
   "attachments": {},
   "cell_type": "markdown",
   "metadata": {},
   "source": [
    "3. PyTTSx\n",
    "    * Python library that supports the Text-to-Speech (TTS) engines included in Windows, such as Microsoft SAPI and Microsoft Speech Platform.\n",
    "    * Offline"
   ]
  },
  {
   "cell_type": "code",
   "execution_count": null,
   "metadata": {},
   "outputs": [],
   "source": [
    "4. espeak - a lightweight and open-source TTS engine that supports several languages and accents. You can use the py-espeak-ng library to use it in Python."
   ]
  },
  {
   "attachments": {},
   "cell_type": "markdown",
   "metadata": {},
   "source": [
    "5. Festival\n",
    "    * Free and open-source TTS system that supports different languages and voices. You can use the pyfestival library to use it in Python.\n",
    "    * Offline\n",
    "    * `pip install pyfestival`\n",
    "```\n",
    "Failed to build pyfestival\n",
    "Installing collected packages: pyfestival\n",
    "  Running setup.py install for pyfestival ... error\n",
    "  error: subprocess-exited-with-error\n",
    "  \n",
    "  × Running setup.py install for pyfestival did not run successfully.\n",
    "  │ exit code: 1\n",
    "  ╰─> [5 lines of output]\n",
    "      /home/machina/Documents/machine_env/lib/python3.11/site-packages/setuptools/command/install.py:34: SetuptoolsDeprecationWarning: setup.py install is deprecated. Use build and pip and other standards-based tools.\n",
    "        warnings.warn(\n",
    "      gcc: fatal error: cannot execute ‘cc1plus’: execvp: No such file or directory\n",
    "      compilation terminated.\n",
    "      error: command '/usr/bin/gcc' failed with exit code 1\n",
    "      [end of output]\n",
    "  \n",
    "  note: This error originates from a subprocess, and is likely not a problem with pip.\n",
    "error: legacy-install-failure\n",
    "\n",
    "× Encountered error while trying to install package.\n",
    "╰─> pyfestival\n",
    "\n",
    "note: This is an issue with the package mentioned above, not pip.\n",
    "hint: See above for output from the failure.\n",
    "```"
   ]
  },
  {
   "cell_type": "code",
   "execution_count": null,
   "metadata": {},
   "outputs": [],
   "source": [
    "import pyfestival\n",
    "pyfestival.say_text(\"Hello, World!\")\n",
    "\n",
    "# Set the path to the voice file\n",
    "pyfestival.set_voice_path('/path/to/voice/file')\n",
    "\n",
    "# Generate speech from text\n",
    "pyfestival.say_text(\"Hello, World!\")\n"
   ]
  }
 ],
 "metadata": {
  "kernelspec": {
   "display_name": "machine_env",
   "language": "python",
   "name": "python3"
  },
  "language_info": {
   "codemirror_mode": {
    "name": "ipython",
    "version": 3
   },
   "file_extension": ".py",
   "mimetype": "text/x-python",
   "name": "python",
   "nbconvert_exporter": "python",
   "pygments_lexer": "ipython3",
   "version": "3.11.2"
  },
  "orig_nbformat": 4
 },
 "nbformat": 4,
 "nbformat_minor": 2
}
